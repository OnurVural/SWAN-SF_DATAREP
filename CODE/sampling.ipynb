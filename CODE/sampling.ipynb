{
 "cells": [
  {
   "cell_type": "code",
   "execution_count": null,
   "id": "ba70f55f",
   "metadata": {},
   "outputs": [],
   "source": [
    "pip install --user scikit-learn"
   ]
  },
  {
   "cell_type": "markdown",
   "id": "529cd556",
   "metadata": {},
   "source": [
    "# Sampling experiments"
   ]
  },
  {
   "cell_type": "markdown",
   "id": "b34b8a79",
   "metadata": {},
   "source": [
    "# Undersampling"
   ]
  },
  {
   "cell_type": "code",
   "execution_count": 1,
   "id": "89535c8d",
   "metadata": {},
   "outputs": [
    {
     "name": "stdout",
     "output_type": "stream",
     "text": [
      "Degree Matrix Shape: (2360, 23)\n",
      "Label Vector Shape: (2360,)\n"
     ]
    }
   ],
   "source": [
    "import os\n",
    "import pickle\n",
    "import networkx as nx\n",
    "import numpy as np\n",
    "import random \n",
    "\n",
    "graph_folder = r'C:\\Users\\user\\Desktop\\H01\\DATA\\graphs_P1'\n",
    "\n",
    "flare_graphs = []\n",
    "nonflare_graphs = []\n",
    "\n",
    "for filename in os.listdir(graph_folder):\n",
    "    graph_path = os.path.join(graph_folder, filename)\n",
    "    try:\n",
    "        with open(graph_path, 'rb') as f:\n",
    "            G = pickle.load(f)\n",
    "        \n",
    "        # Compute node degrees\n",
    "        degrees = [deg for node, deg in G.degree() if node != len(G.nodes) - 1]\n",
    "        \n",
    "        if filename.startswith('flare'):\n",
    "            label = 1\n",
    "            flare_graphs.append((degrees, label))\n",
    "        elif filename.startswith('nonflare'):\n",
    "            label = 0\n",
    "            nonflare_graphs.append((degrees, label))\n",
    "    except Exception as e:\n",
    "        print(f\"Error processing file {filename}: {str(e)}\")\n",
    "\n",
    "random_nonflare_graphs = random.sample(nonflare_graphs, 1180)\n",
    "undersampled_graphs = random_nonflare_graphs + flare_graphs\n",
    "\n",
    "# Shuffle the balanced dataset\n",
    "random.shuffle(undersampled_graphs)\n",
    "degree_matrix = [degree for degree, label in undersampled_graphs]\n",
    "label_vector = [label for degree, label in undersampled_graphs]\n",
    "\n",
    "# Convert lists to NumPy arrays\n",
    "degree_matrix = np.array(degree_matrix)\n",
    "label_vector = np.array(label_vector)\n",
    "\n",
    "# Print or further process the graph_matrix and label_vector as needed\n",
    "print(\"Degree Matrix Shape:\", degree_matrix.shape)\n",
    "print(\"Label Vector Shape:\", label_vector.shape)"
   ]
  },
  {
   "cell_type": "markdown",
   "id": "3af347fc",
   "metadata": {},
   "source": [
    "# Train SVM"
   ]
  },
  {
   "cell_type": "code",
   "execution_count": 2,
   "id": "dc886f83",
   "metadata": {},
   "outputs": [
    {
     "name": "stdout",
     "output_type": "stream",
     "text": [
      "Accuracy: 0.8483050847457627\n",
      "True Skill Statistics (TSS): 0.6966101694915254\n",
      "Heidke Skill Score 1 (HSS1): 0.6966101694915254\n",
      "Heidke Skill Score 2 (HSS2): 0.6966101694915254\n",
      "F1 Score: 0.8556451612903225\n",
      "Gilbert Skill Score: 0.3039940828402367\n",
      "ROC AUC Score: 0.8483050847457627\n"
     ]
    }
   ],
   "source": [
    "from sklearn.svm import SVC\n",
    "from sklearn.metrics import confusion_matrix, f1_score, roc_auc_score\n",
    "\n",
    "# Create and train an SVM classifier\n",
    "svm_classifier = SVC(class_weight='balanced')\n",
    "svm_classifier.fit(degree_matrix, label_vector)\n",
    "\n",
    "# Make predictions on the test data\n",
    "y_pred = svm_classifier.predict(degree_matrix)  \n",
    "\n",
    "# Calculate the confusion matrix\n",
    "conf_matrix = confusion_matrix(label_vector, y_pred)\n",
    "\n",
    "# Calculate True Positives, True Negatives, False Positives, and False Negatives\n",
    "tn, fp, fn, tp = conf_matrix.ravel()\n",
    "\n",
    "# Calculate Accuracy\n",
    "accuracy = (tp + tn) / (tp + tn + fp + fn)\n",
    "\n",
    "# Calculate True Skill Statistics (TSS)\n",
    "tss = (tp / (tp + fn)) - (fp / (fp + tn))\n",
    "\n",
    "# Calculate Heidke Skill Score 1 (HSS1)\n",
    "hss1 = (2 * (tp * tn - fp * fn)) / ((tp + fn) * (fn + tn) + (tp + fp) * (fp + tn))\n",
    "\n",
    "# Calculate Heidke Skill Score 2 (HSS2)\n",
    "hss2 = (2 * (tp * tn - fp * fn)) / ((tp + fn) * (tn + fn) + (tp + fp) * (tn + fp))\n",
    "\n",
    "# Calculate F1 Score\n",
    "f1 = f1_score(label_vector, y_pred)\n",
    "\n",
    "# Calculate Gilbert Skill Score\n",
    "gilbert = (tp - (tp + fn) * (tp + fp) / (tp + tn + fp + fn)) / (tp + tn - (tp + fn) * (tp + fp) / (tp + tn + fp + fn))\n",
    "\n",
    "# Calculate ROC AUC score\n",
    "roc_auc = roc_auc_score(label_vector, y_pred)\n",
    "\n",
    "# Print the results\n",
    "print(\"Accuracy:\", accuracy)\n",
    "print(\"True Skill Statistics (TSS):\", tss)\n",
    "print(\"Heidke Skill Score 1 (HSS1):\", hss1)\n",
    "print(\"Heidke Skill Score 2 (HSS2):\", hss2)\n",
    "print(\"F1 Score:\", f1)\n",
    "print(\"Gilbert Skill Score:\", gilbert)\n",
    "print(\"ROC AUC Score:\", roc_auc)\n"
   ]
  },
  {
   "cell_type": "code",
   "execution_count": 3,
   "id": "cef407d7",
   "metadata": {},
   "outputs": [
    {
     "name": "stdout",
     "output_type": "stream",
     "text": [
      "Saved SVM classifier model to C:\\Users\\user\\Desktop\\H01\\MODELS\\svm_classifier_model_undersampled.pkl\n"
     ]
    }
   ],
   "source": [
    "import pickle\n",
    "import os\n",
    "\n",
    "# Define the directory where you want to save the model\n",
    "model_directory = r'C:\\Users\\user\\Desktop\\H01\\MODELS'\n",
    "\n",
    "# Create the directory if it doesn't exist\n",
    "os.makedirs(model_directory, exist_ok=True)\n",
    "\n",
    "# Save the trained SVM classifier model to a file in the specified directory\n",
    "model_filename = os.path.join(model_directory, 'svm_classifier_model_undersampled.pkl')\n",
    "with open(model_filename, 'wb') as model_file:\n",
    "    pickle.dump(svm_classifier, model_file)\n",
    "\n",
    "print(f\"Saved SVM classifier model to {model_filename}\")"
   ]
  },
  {
   "cell_type": "markdown",
   "id": "88d7db8c",
   "metadata": {},
   "source": [
    "# Train RF"
   ]
  },
  {
   "cell_type": "code",
   "execution_count": 4,
   "id": "b4f8b820",
   "metadata": {},
   "outputs": [
    {
     "name": "stdout",
     "output_type": "stream",
     "text": [
      "Accuracy: 1.0\n",
      "True Skill Statistics (TSS): 1.0\n",
      "Heidke Skill Score 1 (HSS1): 1.0\n",
      "Heidke Skill Score 2 (HSS2): 1.0\n",
      "F1 Score: 1.0\n",
      "Gilbert Skill Score: 0.3333333333333333\n",
      "ROC AUC Score: 1.0\n"
     ]
    }
   ],
   "source": [
    "from sklearn.ensemble import RandomForestClassifier\n",
    "from sklearn.metrics import confusion_matrix, f1_score, roc_auc_score\n",
    "\n",
    "\n",
    "rf_classifier = RandomForestClassifier(class_weight='balanced')\n",
    "rf_classifier.fit(degree_matrix, label_vector)\n",
    "\n",
    "# Make predictions on the test data\n",
    "y_pred = rf_classifier.predict(degree_matrix)  \n",
    "\n",
    "# Calculate the confusion matrix\n",
    "conf_matrix = confusion_matrix(label_vector, y_pred)\n",
    "\n",
    "# Calculate True Positives, True Negatives, False Positives, and False Negatives\n",
    "tn, fp, fn, tp = conf_matrix.ravel()\n",
    "\n",
    "# Calculate Accuracy\n",
    "accuracy = (tp + tn) / (tp + tn + fp + fn)\n",
    "\n",
    "# Calculate True Skill Statistics (TSS)\n",
    "tss = (tp / (tp + fn)) - (fp / (fp + tn))\n",
    "\n",
    "# Calculate Heidke Skill Score 1 (HSS1)\n",
    "hss1 = (2 * (tp * tn - fp * fn)) / ((tp + fn) * (fn + tn) + (tp + fp) * (fp + tn))\n",
    "\n",
    "# Calculate Heidke Skill Score 2 (HSS2)\n",
    "hss2 = (2 * (tp * tn - fp * fn)) / ((tp + fn) * (tn + fn) + (tp + fp) * (tn + fp))\n",
    "\n",
    "# Calculate F1 Score\n",
    "f1 = f1_score(label_vector, y_pred)\n",
    "\n",
    "# Calculate Gilbert Skill Score\n",
    "gilbert = (tp - (tp + fn) * (tp + fp) / (tp + tn + fp + fn)) / (tp + tn - (tp + fn) * (tp + fp) / (tp + tn + fp + fn))\n",
    "\n",
    "# Calculate ROC AUC score\n",
    "roc_auc = roc_auc_score(label_vector, y_pred)\n",
    "\n",
    "# Print the results\n",
    "print(\"Accuracy:\", accuracy)\n",
    "print(\"True Skill Statistics (TSS):\", tss)\n",
    "print(\"Heidke Skill Score 1 (HSS1):\", hss1)\n",
    "print(\"Heidke Skill Score 2 (HSS2):\", hss2)\n",
    "print(\"F1 Score:\", f1)\n",
    "print(\"Gilbert Skill Score:\", gilbert)\n",
    "print(\"ROC AUC Score:\", roc_auc)"
   ]
  },
  {
   "cell_type": "code",
   "execution_count": 5,
   "id": "28bde648",
   "metadata": {},
   "outputs": [
    {
     "name": "stdout",
     "output_type": "stream",
     "text": [
      "Saved Random Forest classifier model to C:\\Users\\user\\Desktop\\H01\\MODELS\\rf_classifier_model_undersampled.pkl\n"
     ]
    }
   ],
   "source": [
    "import pickle\n",
    "import os\n",
    "\n",
    "model_directory = r'C:\\Users\\user\\Desktop\\H01\\MODELS'\n",
    "os.makedirs(model_directory, exist_ok=True)\n",
    "\n",
    "# Save the trained Random Forest classifier model to a file in the specified directory\n",
    "model_filename = os.path.join(model_directory, 'rf_classifier_model_undersampled.pkl')\n",
    "with open(model_filename, 'wb') as model_file:\n",
    "    pickle.dump(rf_classifier, model_file)\n",
    "\n",
    "print(f\"Saved Random Forest classifier model to {model_filename}\")"
   ]
  },
  {
   "cell_type": "markdown",
   "id": "36c6969e",
   "metadata": {},
   "source": [
    "# Test Results"
   ]
  },
  {
   "cell_type": "code",
   "execution_count": 6,
   "id": "37d0d793",
   "metadata": {},
   "outputs": [
    {
     "name": "stdout",
     "output_type": "stream",
     "text": [
      "Graph Matrix Shape: (79541, 23)\n",
      "Label Vector Shape: (79541,)\n"
     ]
    }
   ],
   "source": [
    "import os\n",
    "import pickle\n",
    "import networkx as nx\n",
    "import numpy as np\n",
    "\n",
    "graph_folder = r'C:\\Users\\user\\Desktop\\H01\\DATA\\graphs_P2'\n",
    "graph_vectors = []\n",
    "labels = []\n",
    "\n",
    "# Iterate through all files in the folder\n",
    "for filename in os.listdir(graph_folder):\n",
    "    graph_path = os.path.join(graph_folder, filename)\n",
    "    try:\n",
    "        with open(graph_path, 'rb') as f:\n",
    "            G = pickle.load(f)\n",
    "        \n",
    "        # Compute node degrees\n",
    "        degrees = [deg for node, deg in G.degree() if node != len(G.nodes) - 1]\n",
    "        \n",
    "        # Determine label based on filename\n",
    "        if filename.startswith('flare'):\n",
    "            label = 1\n",
    "        elif filename.startswith('nonflare'):\n",
    "            label = 0\n",
    "            \n",
    "        # Append degrees and label to lists\n",
    "        graph_vectors.append(degrees)\n",
    "        labels.append(label)\n",
    "    \n",
    "    except Exception as e:\n",
    "        print(f\"Error processing file {filename}: {str(e)}\")\n",
    "\n",
    "# Convert lists to NumPy arrays\n",
    "graph_matrix = np.array(graph_vectors)\n",
    "label_vector = np.array(labels)\n",
    "\n",
    "# Print or further process the graph_matrix and label_vector as needed\n",
    "print(\"Graph Matrix Shape:\", graph_matrix.shape)\n",
    "print(\"Label Vector Shape:\", label_vector.shape)"
   ]
  },
  {
   "cell_type": "markdown",
   "id": "64fbb273",
   "metadata": {},
   "source": [
    "# Test SVM"
   ]
  },
  {
   "cell_type": "code",
   "execution_count": 14,
   "id": "53cd09d0",
   "metadata": {},
   "outputs": [
    {
     "name": "stdout",
     "output_type": "stream",
     "text": [
      "tn, fp, fn, tp:  54385 23871 496 789\n",
      "SVM Model Evaluation Metrics:\n",
      "Accuracy: 0.6936548446713016\n",
      "True Skill Statistics (TSS): 0.30897046866833155\n",
      "Heidke Skill Score 1 (HSS1): -17.962645914396887\n",
      "Heidke Skill Score 2 (HSS2): 0.031064855586285908\n",
      "F1 Score: 0.06082096743110425\n",
      "Gilbert Skill Score: 0.00713114802715343\n",
      "ROC AUC Score: 0.6544852343341657\n"
     ]
    }
   ],
   "source": [
    "import os\n",
    "import pickle\n",
    "from sklearn.metrics import confusion_matrix, f1_score, roc_auc_score\n",
    "import numpy as np\n",
    "\n",
    "# Load the saved SVM model\n",
    "svm_model_path = r'C:\\Users\\user\\Desktop\\H01\\MODELS\\svm_classifier_model_undersampled.pkl'\n",
    "with open(svm_model_path, 'rb') as svm_model_file:\n",
    "    svm_classifier = pickle.load(svm_model_file)\n",
    "\n",
    "# Make predictions using the loaded models\n",
    "svm_predictions = svm_classifier.predict(graph_matrix)\n",
    "\n",
    "# Calculate the confusion matrix\n",
    "conf_matrix = confusion_matrix(label_vector, svm_predictions)\n",
    "\n",
    "# Calculate True Positives, True Negatives, False Positives, and False Negatives\n",
    "tn, fp, fn, tp = conf_matrix.ravel()\n",
    "print(\"tn, fp, fn, tp: \", tn, fp, fn, tp)\n",
    "# Calculate Accuracy\n",
    "accuracy = (tp + tn) / (tp + tn + fp + fn)\n",
    "\n",
    "# Calculate True Skill Statistics (TSS)\n",
    "tss = (tp / (tp + fn)) - (fp / (fp + tn))\n",
    "\n",
    "# Calculate Heidke Skill Score 1 (HSS1)\n",
    "hss1 = (tp/(tp+fn))*(2 - (tp + fp)/tp )\n",
    "\n",
    "# Calculate Heidke Skill Score 2 (HSS2)\n",
    "hss2 =  (2 * (tp * tn - fp * fn)) / ((tp + fn) * (tn + fn) + (tp + fp) * (tn + fp))\n",
    "\n",
    "# Calculate F1 Score\n",
    "f1 = f1_score(label_vector, svm_predictions)\n",
    "\n",
    "# Calculate Gilbert Skill Score\n",
    "gilbert = (tp - (tp + fn) * (tp + fp) / (tp + tn + fp + fn)) / (tp + tn - (tp + fn) * (tp + fp) / (tp + tn + fp + fn))\n",
    "\n",
    "# Calculate ROC AUC score\n",
    "roc_auc = roc_auc_score(label_vector, svm_predictions)\n",
    "\n",
    "# Print the results\n",
    "print(\"SVM Model Evaluation Metrics:\")\n",
    "print(\"Accuracy:\", accuracy)\n",
    "print(\"True Skill Statistics (TSS):\", tss)\n",
    "print(\"Heidke Skill Score 1 (HSS1):\", hss1)\n",
    "print(\"Heidke Skill Score 2 (HSS2):\", hss2)\n",
    "print(\"F1 Score:\", f1)\n",
    "print(\"Gilbert Skill Score:\", gilbert)\n",
    "print(\"ROC AUC Score:\", roc_auc)"
   ]
  },
  {
   "cell_type": "markdown",
   "id": "c292cbae",
   "metadata": {},
   "source": [
    "# Test RF"
   ]
  },
  {
   "cell_type": "code",
   "execution_count": 15,
   "id": "cf966af1",
   "metadata": {},
   "outputs": [
    {
     "name": "stdout",
     "output_type": "stream",
     "text": [
      "tn, fp, fn, tp:  58590 19666 575 710\n",
      "Random Forest Model Evaluation Metrics:\n",
      "Accuracy: 0.7455274638236884\n",
      "True Skill Statistics (TSS): 0.30122576844470156\n",
      "Heidke Skill Score 1 (HSS1): -14.751750972762647\n",
      "Heidke Skill Score 2 (HSS2): 0.03626418141447746\n",
      "F1 Score: 0.06555560685102259\n",
      "Gilbert Skill Score: 0.006457801136637128\n",
      "ROC AUC Score: 0.6506128842223508\n"
     ]
    }
   ],
   "source": [
    "# Load the saved Random Forest model\n",
    "rf_model_path = r'C:\\Users\\user\\Desktop\\H01\\MODELS\\rf_classifier_model_undersampled.pkl'\n",
    "with open(rf_model_path, 'rb') as rf_model_file:\n",
    "    rf_classifier = pickle.load(rf_model_file)\n",
    "    \n",
    "rf_predictions = rf_classifier.predict(graph_matrix)\n",
    "\n",
    "# Calculate the confusion matrix\n",
    "conf_matrix = confusion_matrix(label_vector, rf_predictions)\n",
    "\n",
    "# Calculate True Positives, True Negatives, False Positives, and False Negatives\n",
    "tn, fp, fn, tp = conf_matrix.ravel()\n",
    "print(\"tn, fp, fn, tp: \", tn, fp, fn, tp)\n",
    "\n",
    "# Calculate Accuracy\n",
    "accuracy = (tp + tn) / (tp + tn + fp + fn)\n",
    "\n",
    "# Calculate True Skill Statistics (TSS)\n",
    "tss = (tp / (tp + fn)) - (fp / (fp + tn))\n",
    "\n",
    "# Calculate Heidke Skill Score 1 (HSS1)\n",
    "hss1 = (tp/(tp+fn))*(2 - (tp + fp)/tp )\n",
    "\n",
    "# Calculate Heidke Skill Score 2 (HSS2)\n",
    "hss2 = (2 * (tp * tn - fp * fn)) / ((tp + fn) * (tn + fn) + (tp + fp) * (tn + fp))\n",
    "\n",
    "# Calculate F1 Score\n",
    "f1 = f1_score(label_vector, rf_predictions)\n",
    "\n",
    "# Calculate Gilbert Skill Score\n",
    "gilbert = (tp - (tp + fn) * (tp + fp) / (tp + tn + fp + fn)) / (tp + tn - (tp + fn) * (tp + fp) / (tp + tn + fp + fn))\n",
    "\n",
    "# Calculate ROC AUC score\n",
    "roc_auc = roc_auc_score(label_vector, rf_predictions)\n",
    "\n",
    "# Print the results\n",
    "print(\"Random Forest Model Evaluation Metrics:\")\n",
    "print(\"Accuracy:\", accuracy)\n",
    "print(\"True Skill Statistics (TSS):\", tss)\n",
    "print(\"Heidke Skill Score 1 (HSS1):\", hss1)\n",
    "print(\"Heidke Skill Score 2 (HSS2):\", hss2)\n",
    "print(\"F1 Score:\", f1)\n",
    "print(\"Gilbert Skill Score:\", gilbert)\n",
    "print(\"ROC AUC Score:\", roc_auc)"
   ]
  },
  {
   "cell_type": "markdown",
   "id": "964419c8",
   "metadata": {},
   "source": [
    "# Oversampling"
   ]
  },
  {
   "cell_type": "code",
   "execution_count": null,
   "id": "ed669ce2",
   "metadata": {},
   "outputs": [],
   "source": []
  }
 ],
 "metadata": {
  "kernelspec": {
   "display_name": "Python 3 (ipykernel)",
   "language": "python",
   "name": "python3"
  },
  "language_info": {
   "codemirror_mode": {
    "name": "ipython",
    "version": 3
   },
   "file_extension": ".py",
   "mimetype": "text/x-python",
   "name": "python",
   "nbconvert_exporter": "python",
   "pygments_lexer": "ipython3",
   "version": "3.9.13"
  }
 },
 "nbformat": 4,
 "nbformat_minor": 5
}
