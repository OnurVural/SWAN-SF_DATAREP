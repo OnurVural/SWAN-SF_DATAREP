version https://git-lfs.github.com/spec/v1
oid sha256:a1dd6c461ff4e6fac53f67e18b86aa3f74a3727e579774c8558c31f89816b9fa
size 190531842
